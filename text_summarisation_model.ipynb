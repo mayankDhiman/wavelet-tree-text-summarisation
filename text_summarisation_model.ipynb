{
  "nbformat": 4,
  "nbformat_minor": 0,
  "metadata": {
    "colab": {
      "name": "text-summarisation-model.ipynb",
      "provenance": [],
      "collapsed_sections": [],
      "include_colab_link": true
    },
    "kernelspec": {
      "name": "python3",
      "display_name": "Python 3"
    }
  },
  "cells": [
    {
      "cell_type": "markdown",
      "metadata": {
        "id": "view-in-github",
        "colab_type": "text"
      },
      "source": [
        "<a href=\"https://colab.research.google.com/github/mayankDhiman/wavelet-tree-text-summarisation/blob/main/text_summarisation_model.ipynb\" target=\"_parent\"><img src=\"https://colab.research.google.com/assets/colab-badge.svg\" alt=\"Open In Colab\"/></a>"
      ]
    },
    {
      "cell_type": "markdown",
      "metadata": {
        "id": "PLNCR7cQW2HJ"
      },
      "source": [
        "## Text Summarisation Neural Network Model"
      ]
    },
    {
      "cell_type": "code",
      "metadata": {
        "id": "fCfb-ASnW7Jd"
      },
      "source": [
        "import nltk\n",
        "from nltk.corpus import stopwords"
      ],
      "execution_count": 3,
      "outputs": []
    },
    {
      "cell_type": "code",
      "metadata": {
        "id": "kFt2K8RQqsSX",
        "outputId": "ad28c4b4-facc-430c-8288-3f60350597c7",
        "colab": {
          "base_uri": "https://localhost:8080/",
          "height": 68
        }
      },
      "source": [
        "nltk.download('stopwords')"
      ],
      "execution_count": 4,
      "outputs": [
        {
          "output_type": "stream",
          "text": [
            "[nltk_data] Downloading package stopwords to /root/nltk_data...\n",
            "[nltk_data]   Unzipping corpora/stopwords.zip.\n"
          ],
          "name": "stdout"
        },
        {
          "output_type": "execute_result",
          "data": {
            "text/plain": [
              "True"
            ]
          },
          "metadata": {
            "tags": []
          },
          "execution_count": 4
        }
      ]
    },
    {
      "cell_type": "code",
      "metadata": {
        "id": "-I4Q65iLaXQr"
      },
      "source": [
        "from nltk.cluster.util import cosine_distance\n",
        "import numpy as np\n",
        "import networkx as nx"
      ],
      "execution_count": 5,
      "outputs": []
    },
    {
      "cell_type": "code",
      "metadata": {
        "id": "kvmyohNWeLFQ"
      },
      "source": [
        "text='The coronavirus outbreak came to light on December 31, 2019 when China informed the World Health Organisation of a cluster of cases of pneumonia of an unknown cause in Wuhan City in Hubei Province. Subsequently the disease spread to more Provinces in China, and to the rest of the world. The WHO has now declared it a pandemic. The virus has been named SARS-CoV-2 and the disease is now called COVID-19'"
      ],
      "execution_count": 6,
      "outputs": []
    },
    {
      "cell_type": "code",
      "metadata": {
        "id": "If6Baqh-ea-x"
      },
      "source": [
        "text=text.split(\".\")"
      ],
      "execution_count": 7,
      "outputs": []
    },
    {
      "cell_type": "code",
      "metadata": {
        "id": "N8ngo0Gjfv8O",
        "outputId": "03bc6821-36b4-42b1-d460-3b4b00fed968",
        "colab": {
          "base_uri": "https://localhost:8080/",
          "height": 54
        }
      },
      "source": [
        "print(text)"
      ],
      "execution_count": 8,
      "outputs": [
        {
          "output_type": "stream",
          "text": [
            "['The coronavirus outbreak came to light on December 31, 2019 when China informed the World Health Organisation of a cluster of cases of pneumonia of an unknown cause in Wuhan City in Hubei Province', ' Subsequently the disease spread to more Provinces in China, and to the rest of the world', ' The WHO has now declared it a pandemic', ' The virus has been named SARS-CoV-2 and the disease is now called COVID-19']\n"
          ],
          "name": "stdout"
        }
      ]
    },
    {
      "cell_type": "code",
      "metadata": {
        "id": "r8j7eQI8f0uH",
        "outputId": "0cfeb038-1dcf-4f6a-e14a-be2ad72af736",
        "colab": {
          "base_uri": "https://localhost:8080/",
          "height": 54
        }
      },
      "source": [
        "corpus=[]\n",
        "for sent in text:\n",
        "  corpus.append(sent.replace(\"[^a-zA-z]\",\" \").split(\" \"))\n",
        "print(corpus)"
      ],
      "execution_count": 9,
      "outputs": [
        {
          "output_type": "stream",
          "text": [
            "[['The', 'coronavirus', 'outbreak', 'came', 'to', 'light', 'on', 'December', '31,', '2019', 'when', 'China', 'informed', 'the', 'World', 'Health', 'Organisation', 'of', 'a', 'cluster', 'of', 'cases', 'of', 'pneumonia', 'of', 'an', 'unknown', 'cause', 'in', 'Wuhan', 'City', 'in', 'Hubei', 'Province'], ['', 'Subsequently', 'the', 'disease', 'spread', 'to', 'more', 'Provinces', 'in', 'China,', 'and', 'to', 'the', 'rest', 'of', 'the', 'world'], ['', 'The', 'WHO', 'has', 'now', 'declared', 'it', 'a', 'pandemic'], ['', 'The', 'virus', 'has', 'been', 'named', 'SARS-CoV-2', 'and', 'the', 'disease', 'is', 'now', 'called', 'COVID-19']]\n"
          ],
          "name": "stdout"
        }
      ]
    },
    {
      "cell_type": "code",
      "metadata": {
        "id": "2f5YTU1ks3xX",
        "outputId": "99b3bac8-7e47-4062-e5a3-849c753a0703",
        "colab": {
          "base_uri": "https://localhost:8080/",
          "height": 54
        }
      },
      "source": [
        "corpus.pop()\n",
        "print(corpus)"
      ],
      "execution_count": 10,
      "outputs": [
        {
          "output_type": "stream",
          "text": [
            "[['The', 'coronavirus', 'outbreak', 'came', 'to', 'light', 'on', 'December', '31,', '2019', 'when', 'China', 'informed', 'the', 'World', 'Health', 'Organisation', 'of', 'a', 'cluster', 'of', 'cases', 'of', 'pneumonia', 'of', 'an', 'unknown', 'cause', 'in', 'Wuhan', 'City', 'in', 'Hubei', 'Province'], ['', 'Subsequently', 'the', 'disease', 'spread', 'to', 'more', 'Provinces', 'in', 'China,', 'and', 'to', 'the', 'rest', 'of', 'the', 'world'], ['', 'The', 'WHO', 'has', 'now', 'declared', 'it', 'a', 'pandemic']]\n"
          ],
          "name": "stdout"
        }
      ]
    },
    {
      "cell_type": "code",
      "metadata": {
        "id": "fpVtHLG0gSXl"
      },
      "source": [
        "def sent_sim(s1,s2,stopwords=None):\n",
        "  if stopwords is None:\n",
        "    stopwords=[]\n",
        "  \n",
        "  s1=[w.lower() for w in s1]\n",
        "  s2=[w.lower() for w in s2]\n",
        "\n",
        "  all=list(set(s1+s2))\n",
        "  v1=[0]*len(all)\n",
        "  v2=[0]*len(all)\n",
        "  stopwords = set(stopwords.words(\"english\"))\n",
        "\n",
        "  for w in s1:\n",
        "    if w in stopwords:\n",
        "      continue\n",
        "    v1[all.index(w)] +=1\n",
        "  \n",
        "  for w in s2:\n",
        "    if w in stopwords:\n",
        "      continue\n",
        "    v2[all.index(w)] +=1\n",
        "  \n",
        "  return 1 - cosine_distance(v1,v2)"
      ],
      "execution_count": 11,
      "outputs": []
    },
    {
      "cell_type": "code",
      "metadata": {
        "id": "XJ43pi8gkaxi"
      },
      "source": [
        "def build_simi_mat(sent,stopword):\n",
        "  simi_mat=np.zeros((len(sent), len(sent)))\n",
        "  \n",
        "  for idx1 in range(len(sent)):\n",
        "    for idx2 in range(len(sent)):\n",
        "      if idx1==idx2:\n",
        "        continue\n",
        "      simi_mat[idx1][idx2]=sent_sim(sent[idx1], sent[idx2] , stopwords)\n",
        "  \n",
        "  return simi_mat"
      ],
      "execution_count": 12,
      "outputs": []
    },
    {
      "cell_type": "code",
      "metadata": {
        "id": "cBqaJG2dmbJb"
      },
      "source": [
        "def gen_summary(top_n=5):\n",
        "  stop_words=stopwords.words('english')\n",
        "  summerize_text=[]\n",
        "  txt=corpus\n",
        "  sent_simi_mat = build_simi_mat(txt,stop_words)\n",
        "\n",
        "  sent_simi_graph = nx.from_numpy_array(sent_simi_mat)\n",
        "  score=nx.pagerank(sent_simi_graph)\n",
        "\n",
        "  ranked_sent = sorted(((score[i],s) for i,s in enumerate(txt)), reverse=True)\n",
        "  print(\"top ranked senetnce\" , ranked_sent)\n",
        "\n",
        "  for i in range(top_n):\n",
        "    summerize_text.append(\" \".join(ranked_sent[i][1]))\n",
        "\n",
        "  print(\"Summarize Text: \\n\",\".\".join(summerize_text))  "
      ],
      "execution_count": 13,
      "outputs": []
    },
    {
      "cell_type": "code",
      "metadata": {
        "id": "zF99G3fQpHE_",
        "outputId": "887198aa-7ff4-4713-cd96-ef06b1d04e41",
        "colab": {
          "base_uri": "https://localhost:8080/",
          "height": 88
        }
      },
      "source": [
        "gen_summary(2)"
      ],
      "execution_count": 14,
      "outputs": [
        {
          "output_type": "stream",
          "text": [
            "top ranked senetnce [(0.48648582432442083, ['', 'Subsequently', 'the', 'disease', 'spread', 'to', 'more', 'Provinces', 'in', 'China,', 'and', 'to', 'the', 'rest', 'of', 'the', 'world']), (0.3500905928819326, ['', 'The', 'WHO', 'has', 'now', 'declared', 'it', 'a', 'pandemic']), (0.16342358279364622, ['The', 'coronavirus', 'outbreak', 'came', 'to', 'light', 'on', 'December', '31,', '2019', 'when', 'China', 'informed', 'the', 'World', 'Health', 'Organisation', 'of', 'a', 'cluster', 'of', 'cases', 'of', 'pneumonia', 'of', 'an', 'unknown', 'cause', 'in', 'Wuhan', 'City', 'in', 'Hubei', 'Province'])]\n",
            "Summarize Text: \n",
            "  Subsequently the disease spread to more Provinces in China, and to the rest of the world. The WHO has now declared it a pandemic\n"
          ],
          "name": "stdout"
        }
      ]
    }
  ]
}