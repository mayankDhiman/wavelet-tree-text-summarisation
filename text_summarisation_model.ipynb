{
  "nbformat": 4,
  "nbformat_minor": 0,
  "metadata": {
    "colab": {
      "name": "text-summarisation-model.ipynb",
      "provenance": [],
      "authorship_tag": "ABX9TyMU85TrqEkWpDEFtYL5oZcw",
      "include_colab_link": true
    },
    "kernelspec": {
      "name": "python3",
      "display_name": "Python 3"
    }
  },
  "cells": [
    {
      "cell_type": "markdown",
      "metadata": {
        "id": "view-in-github",
        "colab_type": "text"
      },
      "source": [
        "<a href=\"https://colab.research.google.com/github/mayankDhiman/wavelet-tree-text-summarisation/blob/main/text_summarisation_model.ipynb\" target=\"_parent\"><img src=\"https://colab.research.google.com/assets/colab-badge.svg\" alt=\"Open In Colab\"/></a>"
      ]
    },
    {
      "cell_type": "markdown",
      "metadata": {
        "id": "PLNCR7cQW2HJ"
      },
      "source": [
        "## Text Summarisation Neural Network Model"
      ]
    },
    {
      "cell_type": "code",
      "metadata": {
        "id": "fCfb-ASnW7Jd"
      },
      "source": [
        ""
      ],
      "execution_count": null,
      "outputs": []
    }
  ]
}